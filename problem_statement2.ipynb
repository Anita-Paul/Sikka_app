{
 "cells": [
  {
   "cell_type": "code",
   "execution_count": 49,
   "id": "9fbf6393",
   "metadata": {},
   "outputs": [],
   "source": [
    "import pandas as pd"
   ]
  },
  {
   "cell_type": "code",
   "execution_count": 50,
   "id": "a4fd7f5a",
   "metadata": {},
   "outputs": [],
   "source": [
    "# Read the data from CSV files\n",
    "user_signup_data = pd.read_csv('Q2_users signup.csv')\n",
    "user_offer_data = pd.read_csv('Q2_User offer data.csv')\n",
    "user_offer_completion_data = pd.read_csv('Q2_User offer completion data (1).csv')\n",
    "rewards_details = pd.read_csv('Q2_rewards details.csv')"
   ]
  },
  {
   "cell_type": "code",
   "execution_count": 51,
   "id": "7d729c40",
   "metadata": {},
   "outputs": [
    {
     "data": {
      "text/html": [
       "<div>\n",
       "<style scoped>\n",
       "    .dataframe tbody tr th:only-of-type {\n",
       "        vertical-align: middle;\n",
       "    }\n",
       "\n",
       "    .dataframe tbody tr th {\n",
       "        vertical-align: top;\n",
       "    }\n",
       "\n",
       "    .dataframe thead th {\n",
       "        text-align: right;\n",
       "    }\n",
       "</style>\n",
       "<table border=\"1\" class=\"dataframe\">\n",
       "  <thead>\n",
       "    <tr style=\"text-align: right;\">\n",
       "      <th></th>\n",
       "      <th>user_id</th>\n",
       "      <th>app_id</th>\n",
       "      <th>signed_up_on</th>\n",
       "      <th>last_login_date</th>\n",
       "    </tr>\n",
       "  </thead>\n",
       "  <tbody>\n",
       "    <tr>\n",
       "      <th>0</th>\n",
       "      <td>c925ccad-98e7-4500-833e-a49aa066aeec</td>\n",
       "      <td>sikka</td>\n",
       "      <td>2022-11-26</td>\n",
       "      <td>2022-11-26</td>\n",
       "    </tr>\n",
       "    <tr>\n",
       "      <th>1</th>\n",
       "      <td>7cdb9d2c-9644-42d0-8d44-50fa57747523</td>\n",
       "      <td>sikka</td>\n",
       "      <td>2022-11-26</td>\n",
       "      <td>2022-11-26</td>\n",
       "    </tr>\n",
       "    <tr>\n",
       "      <th>2</th>\n",
       "      <td>e2dfd115-a8b0-4e3e-96e5-9b11e5f316f1</td>\n",
       "      <td>sikka</td>\n",
       "      <td>2022-11-26</td>\n",
       "      <td>2022-11-28</td>\n",
       "    </tr>\n",
       "    <tr>\n",
       "      <th>3</th>\n",
       "      <td>f55000a3-dd68-44d8-b461-41c85d963ce2</td>\n",
       "      <td>sikka</td>\n",
       "      <td>2022-11-26</td>\n",
       "      <td>2022-11-27</td>\n",
       "    </tr>\n",
       "    <tr>\n",
       "      <th>4</th>\n",
       "      <td>a6d5ed73-5c1c-4666-a592-f93ab4489cf5</td>\n",
       "      <td>sikka</td>\n",
       "      <td>2022-11-26</td>\n",
       "      <td>2022-11-26</td>\n",
       "    </tr>\n",
       "  </tbody>\n",
       "</table>\n",
       "</div>"
      ],
      "text/plain": [
       "                                user_id app_id signed_up_on last_login_date\n",
       "0  c925ccad-98e7-4500-833e-a49aa066aeec  sikka   2022-11-26      2022-11-26\n",
       "1  7cdb9d2c-9644-42d0-8d44-50fa57747523  sikka   2022-11-26      2022-11-26\n",
       "2  e2dfd115-a8b0-4e3e-96e5-9b11e5f316f1  sikka   2022-11-26      2022-11-28\n",
       "3  f55000a3-dd68-44d8-b461-41c85d963ce2  sikka   2022-11-26      2022-11-27\n",
       "4  a6d5ed73-5c1c-4666-a592-f93ab4489cf5  sikka   2022-11-26      2022-11-26"
      ]
     },
     "execution_count": 51,
     "metadata": {},
     "output_type": "execute_result"
    }
   ],
   "source": [
    "user_signup_data.head()\n"
   ]
  },
  {
   "cell_type": "code",
   "execution_count": 52,
   "id": "86916514",
   "metadata": {},
   "outputs": [
    {
     "data": {
      "text/plain": [
       "Index(['user_id', 'app_id', 'signed_up_on', 'last_login_date'], dtype='object')"
      ]
     },
     "execution_count": 52,
     "metadata": {},
     "output_type": "execute_result"
    }
   ],
   "source": [
    "user_signup_data.columns"
   ]
  },
  {
   "cell_type": "code",
   "execution_count": 53,
   "id": "15144e4f",
   "metadata": {},
   "outputs": [
    {
     "data": {
      "text/html": [
       "<div>\n",
       "<style scoped>\n",
       "    .dataframe tbody tr th:only-of-type {\n",
       "        vertical-align: middle;\n",
       "    }\n",
       "\n",
       "    .dataframe tbody tr th {\n",
       "        vertical-align: top;\n",
       "    }\n",
       "\n",
       "    .dataframe thead th {\n",
       "        text-align: right;\n",
       "    }\n",
       "</style>\n",
       "<table border=\"1\" class=\"dataframe\">\n",
       "  <thead>\n",
       "    <tr style=\"text-align: right;\">\n",
       "      <th></th>\n",
       "      <th>Unnamed: 0</th>\n",
       "      <th>user_id</th>\n",
       "      <th>offer_id</th>\n",
       "      <th>status</th>\n",
       "      <th>started_at</th>\n",
       "      <th>completed_at</th>\n",
       "      <th>expires_at</th>\n",
       "    </tr>\n",
       "  </thead>\n",
       "  <tbody>\n",
       "    <tr>\n",
       "      <th>0</th>\n",
       "      <td>0</td>\n",
       "      <td>44f9c9f1-1ce1-4b04-8042-ddb1c548c589</td>\n",
       "      <td>792</td>\n",
       "      <td>ONGOING</td>\n",
       "      <td>2022-11-26 07:25:38.995614+00:00</td>\n",
       "      <td>NaN</td>\n",
       "      <td>2022-11-27 18:29:59+00:00</td>\n",
       "    </tr>\n",
       "    <tr>\n",
       "      <th>1</th>\n",
       "      <td>1</td>\n",
       "      <td>e5c792a3-9cd9-4d10-a7b5-e5ee0f0f5fad</td>\n",
       "      <td>3462</td>\n",
       "      <td>ONGOING</td>\n",
       "      <td>2022-11-26 01:19:42.059483+00:00</td>\n",
       "      <td>NaN</td>\n",
       "      <td>2022-11-28 01:19:42.066140+00:00</td>\n",
       "    </tr>\n",
       "    <tr>\n",
       "      <th>2</th>\n",
       "      <td>2</td>\n",
       "      <td>033c38d4-fd46-45a2-b09a-18d637c54129</td>\n",
       "      <td>3462</td>\n",
       "      <td>ONGOING</td>\n",
       "      <td>2022-11-26 14:12:39.365453+00:00</td>\n",
       "      <td>NaN</td>\n",
       "      <td>2022-11-28 14:12:39.369689+00:00</td>\n",
       "    </tr>\n",
       "    <tr>\n",
       "      <th>3</th>\n",
       "      <td>3</td>\n",
       "      <td>8a488246-83d3-4028-b216-85ee8c3e504d</td>\n",
       "      <td>2328</td>\n",
       "      <td>ONGOING</td>\n",
       "      <td>2022-11-26 02:51:44.438026+00:00</td>\n",
       "      <td>NaN</td>\n",
       "      <td>2022-11-28 02:51:44.441869+00:00</td>\n",
       "    </tr>\n",
       "    <tr>\n",
       "      <th>4</th>\n",
       "      <td>4</td>\n",
       "      <td>aff26172-41d6-4e69-9b02-48011fe35804</td>\n",
       "      <td>3467</td>\n",
       "      <td>ONGOING</td>\n",
       "      <td>2022-11-26 11:44:25.915581+00:00</td>\n",
       "      <td>NaN</td>\n",
       "      <td>2022-11-28 11:44:25.921249+00:00</td>\n",
       "    </tr>\n",
       "  </tbody>\n",
       "</table>\n",
       "</div>"
      ],
      "text/plain": [
       "   Unnamed: 0                               user_id  offer_id   status  \\\n",
       "0           0  44f9c9f1-1ce1-4b04-8042-ddb1c548c589       792  ONGOING   \n",
       "1           1  e5c792a3-9cd9-4d10-a7b5-e5ee0f0f5fad      3462  ONGOING   \n",
       "2           2  033c38d4-fd46-45a2-b09a-18d637c54129      3462  ONGOING   \n",
       "3           3  8a488246-83d3-4028-b216-85ee8c3e504d      2328  ONGOING   \n",
       "4           4  aff26172-41d6-4e69-9b02-48011fe35804      3467  ONGOING   \n",
       "\n",
       "                         started_at completed_at  \\\n",
       "0  2022-11-26 07:25:38.995614+00:00          NaN   \n",
       "1  2022-11-26 01:19:42.059483+00:00          NaN   \n",
       "2  2022-11-26 14:12:39.365453+00:00          NaN   \n",
       "3  2022-11-26 02:51:44.438026+00:00          NaN   \n",
       "4  2022-11-26 11:44:25.915581+00:00          NaN   \n",
       "\n",
       "                         expires_at  \n",
       "0         2022-11-27 18:29:59+00:00  \n",
       "1  2022-11-28 01:19:42.066140+00:00  \n",
       "2  2022-11-28 14:12:39.369689+00:00  \n",
       "3  2022-11-28 02:51:44.441869+00:00  \n",
       "4  2022-11-28 11:44:25.921249+00:00  "
      ]
     },
     "execution_count": 53,
     "metadata": {},
     "output_type": "execute_result"
    }
   ],
   "source": [
    "user_offer_data.head()\n"
   ]
  },
  {
   "cell_type": "code",
   "execution_count": 54,
   "id": "0b42517a",
   "metadata": {},
   "outputs": [
    {
     "data": {
      "text/plain": [
       "Index(['Unnamed: 0', 'user_id', 'offer_id', 'status', 'started_at',\n",
       "       'completed_at', 'expires_at'],\n",
       "      dtype='object')"
      ]
     },
     "execution_count": 54,
     "metadata": {},
     "output_type": "execute_result"
    }
   ],
   "source": [
    "user_offer_data.columns"
   ]
  },
  {
   "cell_type": "code",
   "execution_count": 55,
   "id": "db6b069b",
   "metadata": {},
   "outputs": [
    {
     "data": {
      "text/html": [
       "<div>\n",
       "<style scoped>\n",
       "    .dataframe tbody tr th:only-of-type {\n",
       "        vertical-align: middle;\n",
       "    }\n",
       "\n",
       "    .dataframe tbody tr th {\n",
       "        vertical-align: top;\n",
       "    }\n",
       "\n",
       "    .dataframe thead th {\n",
       "        text-align: right;\n",
       "    }\n",
       "</style>\n",
       "<table border=\"1\" class=\"dataframe\">\n",
       "  <thead>\n",
       "    <tr style=\"text-align: right;\">\n",
       "      <th></th>\n",
       "      <th>Unnamed: 0</th>\n",
       "      <th>reward_id</th>\n",
       "      <th>user_id</th>\n",
       "      <th>date</th>\n",
       "      <th>app_id</th>\n",
       "    </tr>\n",
       "  </thead>\n",
       "  <tbody>\n",
       "    <tr>\n",
       "      <th>0</th>\n",
       "      <td>0</td>\n",
       "      <td>3712</td>\n",
       "      <td>4cb29e43-9f23-42fe-bab8-2422f42e7a91</td>\n",
       "      <td>2022-11-29</td>\n",
       "      <td>sikka</td>\n",
       "    </tr>\n",
       "    <tr>\n",
       "      <th>1</th>\n",
       "      <td>1</td>\n",
       "      <td>935</td>\n",
       "      <td>4cb29e43-9f23-42fe-bab8-2422f42e7a91</td>\n",
       "      <td>2022-11-29</td>\n",
       "      <td>sikka</td>\n",
       "    </tr>\n",
       "    <tr>\n",
       "      <th>2</th>\n",
       "      <td>2</td>\n",
       "      <td>3416</td>\n",
       "      <td>44f9c9f1-1ce1-4b04-8042-ddb1c548c589</td>\n",
       "      <td>2022-11-28</td>\n",
       "      <td>sikka</td>\n",
       "    </tr>\n",
       "    <tr>\n",
       "      <th>3</th>\n",
       "      <td>3</td>\n",
       "      <td>3720</td>\n",
       "      <td>55e70808-0ed9-44fd-9d87-819ba9dc4d3e</td>\n",
       "      <td>2022-11-27</td>\n",
       "      <td>sikka</td>\n",
       "    </tr>\n",
       "    <tr>\n",
       "      <th>4</th>\n",
       "      <td>4</td>\n",
       "      <td>3735</td>\n",
       "      <td>4cb29e43-9f23-42fe-bab8-2422f42e7a91</td>\n",
       "      <td>2022-11-29</td>\n",
       "      <td>sikka</td>\n",
       "    </tr>\n",
       "  </tbody>\n",
       "</table>\n",
       "</div>"
      ],
      "text/plain": [
       "   Unnamed: 0  reward_id                               user_id        date  \\\n",
       "0           0       3712  4cb29e43-9f23-42fe-bab8-2422f42e7a91  2022-11-29   \n",
       "1           1        935  4cb29e43-9f23-42fe-bab8-2422f42e7a91  2022-11-29   \n",
       "2           2       3416  44f9c9f1-1ce1-4b04-8042-ddb1c548c589  2022-11-28   \n",
       "3           3       3720  55e70808-0ed9-44fd-9d87-819ba9dc4d3e  2022-11-27   \n",
       "4           4       3735  4cb29e43-9f23-42fe-bab8-2422f42e7a91  2022-11-29   \n",
       "\n",
       "  app_id  \n",
       "0  sikka  \n",
       "1  sikka  \n",
       "2  sikka  \n",
       "3  sikka  \n",
       "4  sikka  "
      ]
     },
     "execution_count": 55,
     "metadata": {},
     "output_type": "execute_result"
    }
   ],
   "source": [
    "user_offer_completion_data.head()\n"
   ]
  },
  {
   "cell_type": "code",
   "execution_count": 56,
   "id": "0285f3c1",
   "metadata": {},
   "outputs": [
    {
     "data": {
      "text/plain": [
       "Index(['Unnamed: 0', 'reward_id', 'user_id', 'date', 'app_id'], dtype='object')"
      ]
     },
     "execution_count": 56,
     "metadata": {},
     "output_type": "execute_result"
    }
   ],
   "source": [
    "user_offer_completion_data.columns"
   ]
  },
  {
   "cell_type": "code",
   "execution_count": 57,
   "id": "fa13d74c",
   "metadata": {},
   "outputs": [
    {
     "data": {
      "text/html": [
       "<div>\n",
       "<style scoped>\n",
       "    .dataframe tbody tr th:only-of-type {\n",
       "        vertical-align: middle;\n",
       "    }\n",
       "\n",
       "    .dataframe tbody tr th {\n",
       "        vertical-align: top;\n",
       "    }\n",
       "\n",
       "    .dataframe thead th {\n",
       "        text-align: right;\n",
       "    }\n",
       "</style>\n",
       "<table border=\"1\" class=\"dataframe\">\n",
       "  <thead>\n",
       "    <tr style=\"text-align: right;\">\n",
       "      <th></th>\n",
       "      <th>Unnamed: 0</th>\n",
       "      <th>offer_id</th>\n",
       "      <th>reward_id</th>\n",
       "      <th>label_in_english</th>\n",
       "      <th>total_payout_in_paise</th>\n",
       "      <th>total_revenue_in_paise</th>\n",
       "    </tr>\n",
       "  </thead>\n",
       "  <tbody>\n",
       "    <tr>\n",
       "      <th>0</th>\n",
       "      <td>0</td>\n",
       "      <td>369</td>\n",
       "      <td>451</td>\n",
       "      <td>Download APK</td>\n",
       "      <td>500</td>\n",
       "      <td>0</td>\n",
       "    </tr>\n",
       "    <tr>\n",
       "      <th>1</th>\n",
       "      <td>1</td>\n",
       "      <td>400</td>\n",
       "      <td>488</td>\n",
       "      <td>Download</td>\n",
       "      <td>30</td>\n",
       "      <td>0</td>\n",
       "    </tr>\n",
       "    <tr>\n",
       "      <th>2</th>\n",
       "      <td>2</td>\n",
       "      <td>402</td>\n",
       "      <td>491</td>\n",
       "      <td>Download</td>\n",
       "      <td>500</td>\n",
       "      <td>0</td>\n",
       "    </tr>\n",
       "    <tr>\n",
       "      <th>3</th>\n",
       "      <td>3</td>\n",
       "      <td>447</td>\n",
       "      <td>541</td>\n",
       "      <td>Register on App</td>\n",
       "      <td>500</td>\n",
       "      <td>0</td>\n",
       "    </tr>\n",
       "    <tr>\n",
       "      <th>4</th>\n",
       "      <td>4</td>\n",
       "      <td>478</td>\n",
       "      <td>586</td>\n",
       "      <td>Complete Registration</td>\n",
       "      <td>500</td>\n",
       "      <td>0</td>\n",
       "    </tr>\n",
       "  </tbody>\n",
       "</table>\n",
       "</div>"
      ],
      "text/plain": [
       "   Unnamed: 0  offer_id  reward_id       label_in_english  \\\n",
       "0           0       369        451           Download APK   \n",
       "1           1       400        488               Download   \n",
       "2           2       402        491               Download   \n",
       "3           3       447        541        Register on App   \n",
       "4           4       478        586  Complete Registration   \n",
       "\n",
       "   total_payout_in_paise  total_revenue_in_paise  \n",
       "0                    500                       0  \n",
       "1                     30                       0  \n",
       "2                    500                       0  \n",
       "3                    500                       0  \n",
       "4                    500                       0  "
      ]
     },
     "execution_count": 57,
     "metadata": {},
     "output_type": "execute_result"
    }
   ],
   "source": [
    "rewards_details.head()"
   ]
  },
  {
   "cell_type": "code",
   "execution_count": 58,
   "id": "008eb7d7",
   "metadata": {},
   "outputs": [
    {
     "data": {
      "text/plain": [
       "Index(['Unnamed: 0', 'offer_id', 'reward_id', 'label_in_english',\n",
       "       'total_payout_in_paise', 'total_revenue_in_paise'],\n",
       "      dtype='object')"
      ]
     },
     "execution_count": 58,
     "metadata": {},
     "output_type": "execute_result"
    }
   ],
   "source": [
    "rewards_details.columns"
   ]
  },
  {
   "cell_type": "code",
   "execution_count": 59,
   "id": "5edc4345",
   "metadata": {},
   "outputs": [],
   "source": [
    "# merge the User Signup data table with the User offer data table on user_id to get the app_id for each offer\n",
    "user_offer_data = pd.merge(user_offer_data, user_signup_data[['user_id', 'app_id']], on='user_id', how='left')\n"
   ]
  },
  {
   "cell_type": "code",
   "execution_count": null,
   "id": "78353359",
   "metadata": {},
   "outputs": [],
   "source": []
  },
  {
   "cell_type": "code",
   "execution_count": 60,
   "id": "75e25e85",
   "metadata": {},
   "outputs": [
    {
     "name": "stdout",
     "output_type": "stream",
     "text": [
      "Sikka offers initiated: 0\n",
      "Sikka Pro offers initiated: 0\n"
     ]
    }
   ],
   "source": [
    "#Offer Initiation by users\n",
    "sikka_offers_initiated = user_offer_data[user_offer_data['app_id'] == 'Sikka']['offer_id'].nunique()\n",
    "sikka_pro_offers_initiated = user_offer_data[user_offer_data['app_id'] == 'Sikka Pro']['offer_id'].nunique()\n",
    "\n",
    "print(\"Sikka offers initiated:\", sikka_offers_initiated)\n",
    "print(\"Sikka Pro offers initiated:\", sikka_pro_offers_initiated)\n"
   ]
  },
  {
   "cell_type": "code",
   "execution_count": 61,
   "id": "3574569b",
   "metadata": {},
   "outputs": [
    {
     "name": "stdout",
     "output_type": "stream",
     "text": [
      "Sikka offers completed: 0\n",
      "Sikka Pro offers completed: 0\n"
     ]
    }
   ],
   "source": [
    "#Offer Completion by users\n",
    "sikka_offers_completed = user_offer_completion_data[user_offer_completion_data['app_id'] == 'Sikka']['reward_id'].nunique()\n",
    "sikka_pro_offers_completed = user_offer_completion_data[user_offer_completion_data['app_id'] == 'Sikka Pro']['reward_id'].nunique()\n",
    "\n",
    "print(\"Sikka offers completed:\", sikka_offers_completed)\n",
    "print(\"Sikka Pro offers completed:\", sikka_pro_offers_completed)\n"
   ]
  },
  {
   "cell_type": "code",
   "execution_count": 62,
   "id": "2a85caa2",
   "metadata": {},
   "outputs": [
    {
     "name": "stdout",
     "output_type": "stream",
     "text": [
      "Sikka rewards earned: 0.0\n",
      "Sikka Pro rewards earned: 0.0\n"
     ]
    }
   ],
   "source": [
    "# Join user_offer_completion_data and rewards_details_data tables on reward_id column\n",
    "user_rewards_data = pd.merge(user_offer_completion_data, rewards_details, on='reward_id')\n",
    "\n",
    "# Calculate total rewards earned by users for each app\n",
    "sikka_rewards_earned = user_rewards_data[user_rewards_data['app_id'] == 'Sikka']['total_payout_in_paise'].sum() / 100\n",
    "sikka_pro_rewards_earned = user_rewards_data[user_rewards_data['app_id'] == 'Sikka Pro']['total_payout_in_paise'].sum() / 100\n",
    "\n",
    "print(\"Sikka rewards earned:\", sikka_rewards_earned)\n",
    "print(\"Sikka Pro rewards earned:\", sikka_pro_rewards_earned)\n"
   ]
  },
  {
   "cell_type": "code",
   "execution_count": 63,
   "id": "4016b4cd",
   "metadata": {},
   "outputs": [
    {
     "name": "stdout",
     "output_type": "stream",
     "text": [
      "Sikka rewards earned: 0.0\n",
      "Sikka Pro rewards earned: 0.0\n"
     ]
    }
   ],
   "source": [
    "#Rewards earned by users\n",
    "# Join user_offer_completion_data and rewards_details_data tables on reward_id column\n",
    "user_rewards_data = pd.merge(user_offer_completion_data, rewards_details, on='reward_id')\n",
    "\n",
    "# Calculate total rewards earned by users for each app\n",
    "sikka_rewards_earned = user_rewards_data[user_rewards_data['app_id'] == 'Sikka']['total_payout_in_paise'].sum() / 100\n",
    "sikka_pro_rewards_earned = user_rewards_data[user_rewards_data['app_id'] == 'Sikka Pro']['total_payout_in_paise'].sum() / 100\n",
    "\n",
    "print(\"Sikka rewards earned:\", sikka_rewards_earned)\n",
    "print(\"Sikka Pro rewards earned:\", sikka_pro_rewards_earned)\n"
   ]
  },
  {
   "cell_type": "code",
   "execution_count": 65,
   "id": "2766450d",
   "metadata": {},
   "outputs": [
    {
     "name": "stdout",
     "output_type": "stream",
     "text": [
      "      app_id  total_revenue_in_paise\n",
      "0      sikka                   39687\n",
      "1  sikka_pro                   40457\n"
     ]
    }
   ],
   "source": [
    "#Revenue generated\n",
    "revenue_data = pd.merge(user_offer_completion_data, rewards_details, on='reward_id', how='inner')\n",
    "revenue_data = revenue_data.groupby('app_id')['total_revenue_in_paise'].sum().reset_index()\n",
    "print(revenue_data)\n"
   ]
  },
  {
   "cell_type": "raw",
   "id": "5061dcd4",
   "metadata": {},
   "source": [
    "Based on the analysis of the data for both apps, it can be seen that there were no offers initiated or completed for either Sikka or Sikka Pro. Additionally, no rewards were earned for either app. However, when considering the total revenue generated, it was found that Sikka Pro generated slightly more revenue than Sikka. Thus, based on this limited analysis, it can be concluded that Sikka Pro may be performing slightly better than Sikka.\n"
   ]
  },
  {
   "cell_type": "code",
   "execution_count": null,
   "id": "c49c1aad",
   "metadata": {},
   "outputs": [],
   "source": []
  }
 ],
 "metadata": {
  "kernelspec": {
   "display_name": "Python 3 (ipykernel)",
   "language": "python",
   "name": "python3"
  },
  "language_info": {
   "codemirror_mode": {
    "name": "ipython",
    "version": 3
   },
   "file_extension": ".py",
   "mimetype": "text/x-python",
   "name": "python",
   "nbconvert_exporter": "python",
   "pygments_lexer": "ipython3",
   "version": "3.9.7"
  }
 },
 "nbformat": 4,
 "nbformat_minor": 5
}
